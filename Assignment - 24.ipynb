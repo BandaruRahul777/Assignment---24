{
 "cells": [
  {
   "cell_type": "code",
   "execution_count": null,
   "id": "2b3eab81",
   "metadata": {},
   "outputs": [],
   "source": [
    "Question 1"
   ]
  },
  {
   "cell_type": "code",
   "execution_count": null,
   "id": "309dfc15",
   "metadata": {},
   "outputs": [],
   "source": [
    "As an expression, lambda returns a value that can optionally be assigned a name. In contrast, the def statement always assigns\n",
    "the new function to the name in the header, instead of returning is as a result. lambda's body is a single expression,\n",
    "not a block of statements"
   ]
  },
  {
   "cell_type": "code",
   "execution_count": null,
   "id": "72ff9105",
   "metadata": {},
   "outputs": [],
   "source": [
    "Question 2"
   ]
  },
  {
   "cell_type": "code",
   "execution_count": null,
   "id": "af16a940",
   "metadata": {},
   "outputs": [],
   "source": [
    "The lambda keyword in Python provides a shortcut for declaring small anonymous functions. Lambda functions behave just like\n",
    "regular functions declared with the def keyword. They can be used whenever function objects are required."
   ]
  },
  {
   "cell_type": "code",
   "execution_count": null,
   "id": "e36094e3",
   "metadata": {},
   "outputs": [],
   "source": [
    "Question 3"
   ]
  },
  {
   "cell_type": "code",
   "execution_count": null,
   "id": "1bae6ee8",
   "metadata": {},
   "outputs": [],
   "source": [
    "Map operation takes a mapping function and a vector of data as arguments and returns a new vector, which is the result of\n",
    "applying the mapping function on each element of the vector independently. The returned value from map() (map object) then can\n",
    "be passed to functions like list() (to create a list), set() (to create a set) and so on.\n",
    "\n",
    "The filter function operates on a list and returns a subset of that list after applying the filtering rule.\n",
    "\n",
    "The reduce function will transform a given list into a single value by applying a given function continuously to all the\n",
    "elements. It basically keeps operating on pairs of elements until there are no more elements left."
   ]
  },
  {
   "cell_type": "code",
   "execution_count": null,
   "id": "bfbf769c",
   "metadata": {},
   "outputs": [],
   "source": [
    "Question 4"
   ]
  },
  {
   "cell_type": "code",
   "execution_count": null,
   "id": "67c60ed5",
   "metadata": {},
   "outputs": [],
   "source": [
    "Function annotations are completely optional both for parameters and return value. Function annotations provide a way of\n",
    "associating various parts of a function with arbitrary python expressions at compile time.\n",
    "\n",
    "Syntax of function annotations for simple parameters and for excess parameters respectively:\n",
    "\n",
    "def foobar(a: expression, b: expression = 5):\n",
    "\n",
    "def foobar(args: expression, kwargs: expression):"
   ]
  },
  {
   "cell_type": "code",
   "execution_count": null,
   "id": "f829f419",
   "metadata": {},
   "outputs": [],
   "source": [
    "Question 5"
   ]
  },
  {
   "cell_type": "code",
   "execution_count": null,
   "id": "22f646da",
   "metadata": {},
   "outputs": [],
   "source": [
    "A recursive function is a function defined in terms of itself via self-referential expressions. This means that the function\n",
    "will continue to call itself and repeat its behavior until some condition is met to return a result.\n",
    "\n",
    "In this example, tri_recursion() is a function that we have defined to call itself (\"recurse\"). We use the k variable as the\n",
    "data, which decrements (-1) every time we recurse. The recursion ends when the condition is not greater than 0\n",
    "(i.e. when it is 0)."
   ]
  },
  {
   "cell_type": "code",
   "execution_count": 1,
   "id": "ddf3e9e6",
   "metadata": {},
   "outputs": [
    {
     "name": "stdout",
     "output_type": "stream",
     "text": [
      "Recursion Example Results\n",
      "1\n",
      "3\n",
      "6\n",
      "10\n",
      "15\n",
      "21\n"
     ]
    },
    {
     "data": {
      "text/plain": [
       "21"
      ]
     },
     "execution_count": 1,
     "metadata": {},
     "output_type": "execute_result"
    }
   ],
   "source": [
    "def tri_recursion(k):\n",
    "  if(k>0):\n",
    "    result = k+tri_recursion(k-1)\n",
    "    print(result)\n",
    "  else:\n",
    "    result = 0\n",
    "  return result\n",
    "\n",
    "print(\"Recursion Example Results\")\n",
    "tri_recursion(6)"
   ]
  },
  {
   "cell_type": "code",
   "execution_count": null,
   "id": "bb9cb37e",
   "metadata": {},
   "outputs": [],
   "source": [
    "Question 6"
   ]
  },
  {
   "cell_type": "code",
   "execution_count": null,
   "id": "78e370d5",
   "metadata": {},
   "outputs": [],
   "source": [
    "Use 4-space indentation and no tabs.\n",
    "\n",
    "Use docstrings\n",
    "\n",
    "Wrap lines so that they don’t exceed 79 characters\n",
    "\n",
    "Use of regular and updated comments are valuable to both the coders and users."
   ]
  },
  {
   "cell_type": "code",
   "execution_count": null,
   "id": "bbbdf92a",
   "metadata": {},
   "outputs": [],
   "source": [
    "Question 7"
   ]
  },
  {
   "cell_type": "code",
   "execution_count": null,
   "id": "be49e6d3",
   "metadata": {},
   "outputs": [],
   "source": [
    "To call a function, we specify the function name with the round brackets.\n",
    "\n",
    "Use of return keyword inside function which returns the results to the caller.\n",
    "\n",
    "Use of print statement inside function which prints the results to the caller."
   ]
  }
 ],
 "metadata": {
  "kernelspec": {
   "display_name": "Python 3 (ipykernel)",
   "language": "python",
   "name": "python3"
  },
  "language_info": {
   "codemirror_mode": {
    "name": "ipython",
    "version": 3
   },
   "file_extension": ".py",
   "mimetype": "text/x-python",
   "name": "python",
   "nbconvert_exporter": "python",
   "pygments_lexer": "ipython3",
   "version": "3.9.7"
  }
 },
 "nbformat": 4,
 "nbformat_minor": 5
}
